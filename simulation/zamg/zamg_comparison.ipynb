{
 "cells": [
  {
   "cell_type": "code",
   "execution_count": null,
   "metadata": {
    "tags": []
   },
   "outputs": [],
   "source": [
    "import matplotlib\n",
    "import matplotlib.pyplot as plt\n",
    "import numpy as np\n",
    "import pandas as pd\n",
    "import seaborn as sns\n",
    "from matplotlib.backends.backend_pgf import FigureCanvasPgf\n",
    "\n",
    "matplotlib.backend_bases.register_backend('pdf', FigureCanvasPgf)\n",
    "sns.set_theme()\n",
    "plt.rcParams.update({\n",
    "    'pgf.texsystem': 'pdflatex',\n",
    "    'font.family': 'serif',\n",
    "    'text.usetex': True,\n",
    "    'pgf.rcfonts': False,\n",
    "    'pgf.preamble': '\\\\usepackage{lmodern}',\n",
    "})\n",
    "\n",
    "vienna: pd.DataFrame = pd.read_pickle('zamg_vienna.pickle')\n",
    "linz: pd.DataFrame = pd.read_pickle('zamg_linz.pickle')\n",
    "columns = linz.columns\n",
    "\n",
    "vienna = vienna.reindex(columns=columns)\n",
    "vienna.loc[:, 'Station'] = 'Vienna Inner City'\n",
    "linz.loc[:, 'Station'] = 'Linz City'\n",
    "df = pd.concat([vienna, linz], copy=True)\n",
    "df"
   ]
  },
  {
   "cell_type": "code",
   "execution_count": null,
   "outputs": [],
   "source": [
    "# First look at the high-level characteristics:\n",
    "print('Vienna:')\n",
    "print(vienna.describe())\n",
    "print('Linz:')\n",
    "print(linz.describe())\n",
    "\n",
    "for col in columns:\n",
    "    print(f'{col} Pearson correlation coefficient: {np.corrcoef(linz[col].values, vienna[col].values)[0, 1]}')"
   ],
   "metadata": {
    "collapsed": false
   }
  },
  {
   "cell_type": "code",
   "execution_count": null,
   "outputs": [],
   "source": [
    "# Then look at every column in closer detail:\n",
    "# For the sunshine duration (SO), the plotted values do not make sense, I would need to compute the daily sum.\n",
    "# However, it is sufficient to compare the distribution between the datasets.\n",
    "import os\n",
    "\n",
    "out_dir = 'analysis'\n",
    "os.makedirs(out_dir, exist_ok=True)\n",
    "\n",
    "\n",
    "def plot_daily_averages(data: pd.DataFrame, y: str, hue: str, y_label: str = None, group=True):\n",
    "    fig = plt.Figure(figsize=(5, 4))\n",
    "    ax: plt.Axes = fig.add_subplot(1, 1, 1)\n",
    "    for label, df in data.groupby(hue):\n",
    "        if group:\n",
    "            daily: pd.Series = df[y].groupby([df.index.month, df.index.day]).mean()\n",
    "        else:\n",
    "            daily = df[y]\n",
    "        ax.plot(pd.date_range('2020-01-01', '2020-12-31'), daily.values, label=label)\n",
    "    ax.legend()\n",
    "    if y_label is not None:\n",
    "        ax.set_ylabel(y_label)\n",
    "    ax.xaxis.set_major_formatter(matplotlib.dates.DateFormatter('%b %d'))\n",
    "    fig.savefig(os.path.join(out_dir, f'daily_avg_{y}.pdf'), bbox_inches='tight', pad_inches=0.1)\n",
    "\n",
    "\n",
    "def plot_boxplot(data: pd.DataFrame, x: str, y: str, y_label: str = None):\n",
    "    fig = plt.Figure(figsize=(5, 5))\n",
    "    ax: plt.Axes = fig.add_subplot(1, 1, 1)\n",
    "    sns.boxplot(data=data, x=x, y=y, ax=ax)\n",
    "    if y_label is not None:\n",
    "        ax.set_ylabel(y_label)\n",
    "    fig.savefig(os.path.join(out_dir, f'boxplot_{y}.pdf'), bbox_inches='tight', pad_inches=0.1)"
   ],
   "metadata": {
    "collapsed": false
   }
  },
  {
   "cell_type": "code",
   "execution_count": null,
   "outputs": [],
   "source": [
    "col_to_labels = {\n",
    "    'TL': 'TL [°C]',\n",
    "    'P': 'P [hPa]',\n",
    "    'RF': 'RF [%]',\n",
    "}\n",
    "for col, label in col_to_labels.items():\n",
    "    plot_boxplot(data=df, x='Station', y=col, y_label=label)\n",
    "    plot_daily_averages(data=df, y=col, hue='Station', y_label=label)"
   ],
   "metadata": {
    "collapsed": false
   }
  },
  {
   "cell_type": "code",
   "execution_count": null,
   "outputs": [],
   "source": [
    "# Corrected sunshine (SO) averages:\n",
    "sunshine_yearly = pd.DataFrame(columns=['SO', 'Station'])\n",
    "sunshine_daily = pd.DataFrame(columns=['SO', 'Station'])\n",
    "for label, data in df.groupby('Station'):\n",
    "    # First calculate the total sunshine duration (in hours) per day.\n",
    "    daily_sum = data['SO'].groupby([data.index.year, data.index.month, data.index.day]).sum() / (60 * 60)\n",
    "    if label == 'Linz City':\n",
    "        linz_daily = daily_sum\n",
    "    else:\n",
    "        vienna_daily = daily_sum\n",
    "    print(f'Station {label}:')\n",
    "    print(daily_sum.describe())\n",
    "\n",
    "    tmp = pd.DataFrame(daily_sum.values, columns=['SO'])\n",
    "    tmp.loc[:, 'Station'] = label\n",
    "    sunshine_daily = pd.concat([sunshine_daily, tmp], copy=False)\n",
    "\n",
    "    # Then compute the mean over all years\n",
    "    label_means = daily_sum.groupby(level=[1, 2]).mean()\n",
    "    tmp = pd.DataFrame(label_means.values, columns=['SO'])\n",
    "    tmp.loc[:, 'Station'] = label\n",
    "    sunshine_yearly = pd.concat([sunshine_yearly, tmp], copy=False)\n",
    "\n",
    "plot_boxplot(sunshine_daily, x='Station', y='SO', y_label='SO [h]')\n",
    "plot_daily_averages(sunshine_yearly, y='SO', hue='Station', y_label='SO [h]', group=False)\n",
    "print(f'SO Pearson correlation coefficient: {np.corrcoef(linz_daily.values, vienna_daily.values)[0, 1]}')"
   ],
   "metadata": {
    "collapsed": false
   }
  },
  {
   "cell_type": "code",
   "execution_count": null,
   "outputs": [],
   "source": [
    "vienna.loc['2010':'2019'].TL.mean()"
   ],
   "metadata": {
    "collapsed": false
   }
  }
 ],
 "metadata": {
  "kernelspec": {
   "display_name": "Python 3 (ipykernel)",
   "language": "python",
   "name": "python3"
  },
  "language_info": {
   "codemirror_mode": {
    "name": "ipython",
    "version": 3
   },
   "file_extension": ".py",
   "mimetype": "text/x-python",
   "name": "python",
   "nbconvert_exporter": "python",
   "pygments_lexer": "ipython3",
   "version": "3.10.4"
  }
 },
 "nbformat": 4,
 "nbformat_minor": 4
}
